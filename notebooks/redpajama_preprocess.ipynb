{
 "cells": [
  {
   "cell_type": "code",
   "execution_count": 1,
   "metadata": {},
   "outputs": [
    {
     "name": "stderr",
     "output_type": "stream",
     "text": [
      "/home/robinysh/.conda/envs/cs/lib/python3.11/site-packages/datasets/load.py:1486: FutureWarning: The repository for togethercomputer/RedPajama-Data-V2 contains custom code which must be executed to correctly load the dataset. You can inspect the repository content at https://hf.co/datasets/togethercomputer/RedPajama-Data-V2\n",
      "You can avoid this message in future by passing the argument `trust_remote_code=True`.\n",
      "Passing `trust_remote_code=True` will be mandatory to load this dataset from the next major release of `datasets`.\n",
      "  warnings.warn(\n"
     ]
    },
    {
     "data": {
      "application/vnd.jupyter.widget-view+json": {
       "model_id": "e096c5a01a1644f0b47a6bb315bc1129",
       "version_major": 2,
       "version_minor": 0
      },
      "text/plain": [
       "Loading dataset shards:   0%|          | 0/22 [00:00<?, ?it/s]"
      ]
     },
     "metadata": {},
     "output_type": "display_data"
    }
   ],
   "source": [
    "from datasets import load_dataset\n",
    "\n",
    "ds = load_dataset(\"togethercomputer/RedPajama-Data-V2\",\n",
    "                  name=\"sample\",\n",
    "                  partition=\"head_middle\",\n",
    "                  snapshots=[\"2023-06\"],\n",
    "                  languages=[\"en\", \"es\"]) "
   ]
  },
  {
   "cell_type": "code",
   "execution_count": 6,
   "metadata": {},
   "outputs": [
    {
     "data": {
      "application/vnd.jupyter.widget-view+json": {
       "model_id": "446aa88e830e4f478bb4944521243442",
       "version_major": 2,
       "version_minor": 0
      },
      "text/plain": [
       "  0%|          | 0/1050391 [00:00<?, ?it/s]"
      ]
     },
     "metadata": {},
     "output_type": "display_data"
    }
   ],
   "source": [
    "from pathlib import Path\n",
    "from tqdm.notebook import tqdm\n",
    "import json\n",
    "from icecream import ic\n",
    "save_dir = Path(\"/home/public/data/redpajamav2\")\n",
    "\n",
    "with (save_dir/\"raw/en.txt\").open('w', encoding='utf-8') as f_en, (save_dir/\"raw/es.txt\").open('w', encoding='utf-8') as f_es:\n",
    "    files = {'en': f_en, 'es': f_es}\n",
    "    data = ds['train']\n",
    "    for content, meta in tqdm(zip(data['raw_content'], data['meta']), total=len(data)):\n",
    "        lang = json.loads(meta)['language']\n",
    "        if lang not in files:\n",
    "            continue\n",
    "        files[lang].write(content)\n"
   ]
  },
  {
   "cell_type": "code",
   "execution_count": 7,
   "metadata": {},
   "outputs": [
    {
     "name": "stdout",
     "output_type": "stream",
     "text": [
      "mkdir: cannot create directory '/home/public/data/redpajamav2/truncated': File exists\n",
      "cp: -r not specified; omitting directory '/home/public/data/redpajamav2/raw/truncated'\n"
     ]
    }
   ],
   "source": [
    "!mkdir $save_dir/truncated\n",
    "!cp $save_dir/raw/* $save_dir/truncated\n",
    "!truncate $save_dir/truncated/en.txt --reference $save_dir/truncated/es.txt"
   ]
  },
  {
   "cell_type": "code",
   "execution_count": 9,
   "metadata": {},
   "outputs": [
    {
     "name": "stdout",
     "output_type": "stream",
     "text": [
      "/home/public/data/redpajamav2\n"
     ]
    }
   ],
   "source": [
    "!echo $save_dir"
   ]
  },
  {
   "cell_type": "code",
   "execution_count": 13,
   "metadata": {},
   "outputs": [
    {
     "name": "stdout",
     "output_type": "stream",
     "text": [
      "mkdir: cannot create directory '/home/public/data/redpajamav2/splitted': File exists\n"
     ]
    }
   ],
   "source": [
    "!mkdir $save_dir/splitted\n",
    "!cd $save_dir\n",
    "!awk '{if(rand()<0.95) {print $0 > \"en.train\"} else {print $0 > \"en.test\"}}' /home/public/data/redpajamav2/truncated/en.txt\n",
    "!awk '{if(rand()<0.95) {print $0 > \"es.train\"} else {print $0 > \"es.test\"}}' /home/public/data/redpajamav2/truncated/es.txt\n",
    "!mv *.train *.test $save_dir/splitted"
   ]
  }
 ],
 "metadata": {
  "kernelspec": {
   "display_name": "cs",
   "language": "python",
   "name": "python3"
  },
  "language_info": {
   "codemirror_mode": {
    "name": "ipython",
    "version": 3
   },
   "file_extension": ".py",
   "mimetype": "text/x-python",
   "name": "python",
   "nbconvert_exporter": "python",
   "pygments_lexer": "ipython3",
   "version": "3.11.9"
  }
 },
 "nbformat": 4,
 "nbformat_minor": 2
}
